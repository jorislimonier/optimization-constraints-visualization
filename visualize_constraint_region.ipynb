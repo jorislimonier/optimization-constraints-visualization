{
 "cells": [
  {
   "cell_type": "code",
   "execution_count": 1,
   "metadata": {},
   "outputs": [],
   "source": [
    "import numpy as np\n",
    "import pandas as pd\n",
    "import plotly.graph_objects as go\n",
    "import matplotlib.pyplot as plt"
   ]
  },
  {
   "cell_type": "code",
   "execution_count": null,
   "metadata": {},
   "outputs": [],
   "source": [
    "# define all constraints\n",
    "def constraints(x,y,z):\n",
    "    return np.all([\n",
    "#         x + 2*y + z <= 10,\n",
    "#         -x + 3*y == 6,\n",
    "#         x >= 0,\n",
    "#         y >= 0,\n",
    "#         z >= 0,\n",
    "        \n",
    "#         --- b ---\n",
    "        2*x + 3*y >= 6,\n",
    "        x - 2*y == 2,\n",
    "        x >= 0,\n",
    "        y >= 0,\n",
    "    ])"
   ]
  },
  {
   "cell_type": "code",
   "execution_count": 27,
   "metadata": {},
   "outputs": [
    {
     "data": {
      "image/png": "[encoded data removed]",
      "text/plain": [
       "<Figure size 432x288 with 1 Axes>"
      ]
     },
     "metadata": {
      "needs_background": "light"
     },
     "output_type": "display_data"
    }
   ],
   "source": [
    "class FR_2d():\n",
    "    def __init__(self, grid_min, grid_max, res=300):\n",
    "        self.grid_min = grid_min\n",
    "        self.grid_max = grid_max\n",
    "        self.res = res\n",
    "        self.grid = np.linspace(grid_min, grid_max, self.res)\n",
    "        self.x1, self.x2 = np.meshgrid(self.grid, self.grid)\n",
    "        self.constraints = np.ones(shape=(self.res, self.res))\n",
    "\n",
    "    def add_constraint(self, c):\n",
    "        global constraints\n",
    "        self.constraints =  np.logical_and(self.constraints,c)\n",
    "\n",
    "    def plot(self):\n",
    "        extent = x1.min(),x1.max(),x2.min(),x2.max()\n",
    "\n",
    "        plt.imshow(self.constraints,\n",
    "                   extent=extent,\n",
    "                   origin=\"lower\",\n",
    "                   cmap=\"Greys\",\n",
    "                   alpha = 0.3)\n",
    "        \n",
    "fr1 = FR_2d(0, 16)\n",
    "x1 = fr1.x1\n",
    "x2 = fr1.x2\n",
    "\n",
    "fr1.add_constraint(x2>=2)\n",
    "fr1.add_constraint(2*x2<=25-x1)\n",
    "fr1.add_constraint(4*x2>=2*x1-8)\n",
    "fr1.add_constraint(x2<=2*x1-5)\n",
    "\n",
    "fr1.plot()\n"
   ]
  },
  {
   "cell_type": "code",
   "execution_count": null,
   "metadata": {},
   "outputs": [],
   "source": [
    "((y>=2) & (2*y<=25-x) & (4*y>=2*x-8) & (y<=2*x-5)).astype(int)"
   ]
  },
  {
   "cell_type": "code",
   "execution_count": null,
   "metadata": {},
   "outputs": [],
   "source": []
  },
  {
   "cell_type": "code",
   "execution_count": null,
   "metadata": {},
   "outputs": [],
   "source": [
    "x = np.linspace(0, 20, 2000)\n",
    "y1=5+x*0\n",
    "y3=1-x*0\n",
    "y4=6-x\n",
    "\n",
    "plt.plot(x,y4,label=r'$x[1]+x[2]<=6$')\n",
    "plt.plot(x,y1)\n",
    "plt.axvline(5, color='g')        #y2 <  5\n",
    "plt.axvline(1, color='r') #x  >= 1 \n",
    "plt.plot(x,y3,'b--')  #y3 >= 1\n",
    "\n",
    "plt.fill_between(x, y1, y4, where=(x>1)&(x<5), color='grey', alpha=0.5)\n",
    "plt.show()"
   ]
  },
  {
   "cell_type": "code",
   "execution_count": null,
   "metadata": {},
   "outputs": [],
   "source": [
    "import numpy as np\n",
    "import matplotlib.pyplot as plt\n",
    "from mpl_toolkits.mplot3d import Axes3D\n",
    "\n",
    "def get_cube():   \n",
    "    phi = np.arange(1,10,2)*np.pi/4\n",
    "    Phi, Theta = np.meshgrid(phi, phi)\n",
    "\n",
    "    x = np.cos(Phi)*np.sin(Theta)\n",
    "    y = np.sin(Phi)*np.sin(Theta)\n",
    "    z = np.cos(Theta)/np.sqrt(2)\n",
    "    return x,y,z\n",
    "\n",
    "\n",
    "fig = plt.figure()\n",
    "ax = fig.add_subplot(111, projection='3d')\n",
    "\n",
    "a = 5\n",
    "b = 2\n",
    "c = 3\n",
    "x,y,z = get_cube()\n",
    "\n",
    "\n",
    "ax.plot_surface(x*a, y*b, z*c)\n",
    "\n",
    "ax.set_xlim(-2,2)\n",
    "ax.set_ylim(-2,2)\n",
    "ax.set_zlim(-2,2)\n",
    "plt.show()"
   ]
  },
  {
   "cell_type": "code",
   "execution_count": null,
   "metadata": {},
   "outputs": [],
   "source": []
  },
  {
   "cell_type": "code",
   "execution_count": null,
   "metadata": {},
   "outputs": [],
   "source": []
  },
  {
   "cell_type": "code",
   "execution_count": null,
   "metadata": {},
   "outputs": [],
   "source": []
  },
  {
   "cell_type": "code",
   "execution_count": null,
   "metadata": {},
   "outputs": [],
   "source": [
    "grid_res = 15 \n",
    "x_grid = np.linspace(-10, 10, grid_res)\n",
    "y_grid = np.linspace(-10, 10, grid_res)\n",
    "z_grid = np.linspace(-10, 10, grid_res)\n",
    "\n",
    "X = np.array([])\n",
    "Y = np.array([])\n",
    "Z = np.array([])\n",
    "\n",
    "for x in x_grid:\n",
    "    for y in y_grid:\n",
    "        for z in z_grid:\n",
    "            if constraints(x,y,z):\n",
    "                X = np.append(X, x)\n",
    "                Y = np.append(Y, y)\n",
    "                Z = np.append(Z, z)\n",
    "            \n",
    "fig = go.Figure(data=[go.Mesh3d(x=X, y=Y, z=Z, alphahull=0, opacity=.8)])\n",
    "fig"
   ]
  }
 ],
 "metadata": {
  "kernelspec": {
   "display_name": "Python 3",
   "language": "python",
   "name": "python3"
  },
  "language_info": {
   "codemirror_mode": {
    "name": "ipython",
    "version": 3
   },
   "file_extension": ".py",
   "mimetype": "text/x-python",
   "name": "python",
   "nbconvert_exporter": "python",
   "pygments_lexer": "ipython3",
   "version": "3.8.6"
  }
 },
 "nbformat": 4,
 "nbformat_minor": 4
}
